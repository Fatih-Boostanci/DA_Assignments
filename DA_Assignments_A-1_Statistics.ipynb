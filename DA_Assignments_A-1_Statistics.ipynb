{
 "cells": [
  {
   "cell_type": "markdown",
   "id": "5a6327a9",
   "metadata": {},
   "source": [
    "# Assignment-1"
   ]
  },
  {
   "cell_type": "markdown",
   "id": "7a6aa80e",
   "metadata": {},
   "source": [
    "## Descriptive Statistics"
   ]
  },
  {
   "cell_type": "markdown",
   "id": "a1b0e24a",
   "metadata": {},
   "source": [
    "__1. Import NumPy, SciPy, and Pandas__"
   ]
  },
  {
   "cell_type": "code",
   "execution_count": 9,
   "id": "73b6971d",
   "metadata": {},
   "outputs": [],
   "source": [
    "import numpy as np\n",
    "from scipy import stats \n",
    "import pandas as pd"
   ]
  },
  {
   "cell_type": "markdown",
   "id": "92072257",
   "metadata": {},
   "source": [
    "__2. Randomly generate 1,000 samples from the normal distribution using np.random.normal()(mean = 100, standard deviation = 15)__"
   ]
  },
  {
   "cell_type": "code",
   "execution_count": 10,
   "id": "eb224dec",
   "metadata": {},
   "outputs": [],
   "source": [
    "samples = np.random.normal(100, 15, 1000)\n",
    "\n"
   ]
  },
  {
   "cell_type": "markdown",
   "id": "ac1dac57",
   "metadata": {},
   "source": [
    "__3. Compute the mean, median, and mode__"
   ]
  },
  {
   "cell_type": "code",
   "execution_count": 11,
   "id": "412d83f3",
   "metadata": {},
   "outputs": [
    {
     "name": "stdout",
     "output_type": "stream",
     "text": [
      "samples_mean:  99.69421057139178\n",
      "samples_median:  99.77002400339197\n",
      "samples_mode:  ModeResult(mode=array([53.62130672]), count=array([1]))\n"
     ]
    }
   ],
   "source": [
    "mean = np.mean(samples)\n",
    "print(\"samples_mean: \", mean)\n",
    "\n",
    "median =np.median(samples)\n",
    "print(\"samples_median: \", median)\n",
    "\n",
    "mode = stats.mode(samples)\n",
    "print(\"samples_mode: \", mode)"
   ]
  },
  {
   "cell_type": "markdown",
   "id": "fae8c72d",
   "metadata": {},
   "source": [
    "__4. Compute the min, max, Q1, Q3, and interquartile range__"
   ]
  },
  {
   "cell_type": "code",
   "execution_count": 12,
   "id": "ab370144",
   "metadata": {},
   "outputs": [
    {
     "name": "stdout",
     "output_type": "stream",
     "text": [
      "min_samples:  53.62130672057003\n",
      "max_samples:  142.75626163236277\n",
      "Q1_samples:  89.0157507732034\n",
      "Q3_samples.  110.6236295548639\n",
      "IQR_samples:  21.607878781660503\n"
     ]
    }
   ],
   "source": [
    "minn = min(samples)\n",
    "print(\"min_samples: \", minn)\n",
    "\n",
    "maxx = max(samples)\n",
    "print(\"max_samples: \", maxx)\n",
    "\n",
    "q1 = np.percentile(samples, 25)\n",
    "print(\"Q1_samples: \", q1)\n",
    "\n",
    "q3 = np.percentile(samples, 75)\n",
    "print(\"Q3_samples. \", q3)\n",
    "\n",
    "iqr = stats.iqr(samples)\n",
    "print(\"IQR_samples: \", iqr)"
   ]
  },
  {
   "cell_type": "markdown",
   "id": "7ae1f7e9",
   "metadata": {},
   "source": [
    "__5. Compute the variance and standard deviation__"
   ]
  },
  {
   "cell_type": "code",
   "execution_count": 13,
   "id": "b7d1d923",
   "metadata": {},
   "outputs": [
    {
     "name": "stdout",
     "output_type": "stream",
     "text": [
      "samples_variance:  233.16756192858506\n",
      "samples_std_dev:  15.269825209496835\n"
     ]
    }
   ],
   "source": [
    "variance = np.var(samples)\n",
    "print(\"samples_variance: \", variance)\n",
    "\n",
    "std_dev = np.std(samples)\n",
    "print(\"samples_std_dev: \", std_dev)"
   ]
  },
  {
   "cell_type": "markdown",
   "id": "3c788a11",
   "metadata": {},
   "source": [
    "__6. Compute the skewness and kurtosis__"
   ]
  },
  {
   "cell_type": "code",
   "execution_count": 14,
   "id": "9452f8b5",
   "metadata": {},
   "outputs": [],
   "source": [
    "from scipy.stats import kurtosis, skew\n",
    "from scipy import stats"
   ]
  },
  {
   "cell_type": "code",
   "execution_count": 15,
   "id": "5af35e7f",
   "metadata": {},
   "outputs": [
    {
     "name": "stdout",
     "output_type": "stream",
     "text": [
      "samples_skewness:  -0.07625454368907053\n",
      "samples_kurtosis:  -0.2582414129830948\n"
     ]
    }
   ],
   "source": [
    "skewness = skew(samples)\n",
    "print(\"samples_skewness: \", skewness)\n",
    "\n",
    "kurtosis = kurtosis(samples)\n",
    "print(\"samples_kurtosis: \", kurtosis)"
   ]
  },
  {
   "cell_type": "markdown",
   "id": "59a5db6a",
   "metadata": {},
   "source": [
    "## NumPy Correlation Calculation"
   ]
  },
  {
   "cell_type": "markdown",
   "id": "90243de1",
   "metadata": {},
   "source": [
    "__1. Create an array x of integers between 10 (inclusive) and 20 (exclusive). Use np.arange()__"
   ]
  },
  {
   "cell_type": "code",
   "execution_count": 16,
   "id": "45202aba",
   "metadata": {},
   "outputs": [],
   "source": [
    "import numpy as np\n",
    "from scipy import stats \n",
    "import pandas as pd"
   ]
  },
  {
   "cell_type": "code",
   "execution_count": 18,
   "id": "56ce87a6",
   "metadata": {},
   "outputs": [
    {
     "data": {
      "text/plain": [
       "array([10, 11, 12, 13, 14, 15, 16, 17, 18, 19])"
      ]
     },
     "execution_count": 18,
     "metadata": {},
     "output_type": "execute_result"
    }
   ],
   "source": [
    "x = np.arange(10, 20)\n",
    "x"
   ]
  },
  {
   "cell_type": "markdown",
   "id": "4057772e",
   "metadata": {},
   "source": [
    "__2. Then use \"np.array()\" to create a second array y containing 10 arbitrary integers.__"
   ]
  },
  {
   "cell_type": "code",
   "execution_count": 19,
   "id": "a7960df0",
   "metadata": {},
   "outputs": [
    {
     "data": {
      "text/plain": [
       "array([ 1, 22, 29,  5, 11, 16,  7, 10, 24, 23])"
      ]
     },
     "execution_count": 19,
     "metadata": {},
     "output_type": "execute_result"
    }
   ],
   "source": [
    "y = np.random.randint(1, 30, 10)\n",
    "y"
   ]
  },
  {
   "cell_type": "markdown",
   "id": "8c8ae616",
   "metadata": {},
   "source": [
    "__3. Once you have two arrays of the same length, you can compute the **correlation coefficient** between x and y__"
   ]
  },
  {
   "cell_type": "code",
   "execution_count": 21,
   "id": "07e94a77",
   "metadata": {},
   "outputs": [
    {
     "name": "stdout",
     "output_type": "stream",
     "text": [
      "[[1.         0.25043793]\n",
      " [0.25043793 1.        ]]\n"
     ]
    }
   ],
   "source": [
    "r = np.corrcoef(x, y)\n",
    "print(r)\n"
   ]
  },
  {
   "cell_type": "markdown",
   "id": "404d2b33",
   "metadata": {},
   "source": [
    "## Pandas Correlation Calculation"
   ]
  },
  {
   "cell_type": "code",
   "execution_count": 29,
   "id": "ef5e9956",
   "metadata": {},
   "outputs": [],
   "source": [
    "import pandas as pd"
   ]
  },
  {
   "cell_type": "markdown",
   "id": "7837eb3c",
   "metadata": {},
   "source": [
    "__1. Run the code below__"
   ]
  },
  {
   "cell_type": "code",
   "execution_count": 45,
   "id": "81bc7d31",
   "metadata": {},
   "outputs": [],
   "source": [
    "x = pd.Series(range(10, 20))\n",
    "y = pd.Series([2, 1, 4, 5, 8, 12, 18, 25, 96, 48])"
   ]
  },
  {
   "cell_type": "code",
   "execution_count": 48,
   "id": "9890a53f",
   "metadata": {},
   "outputs": [
    {
     "data": {
      "text/plain": [
       "0    10\n",
       "1    11\n",
       "2    12\n",
       "3    13\n",
       "4    14\n",
       "5    15\n",
       "6    16\n",
       "7    17\n",
       "8    18\n",
       "9    19\n",
       "dtype: int64"
      ]
     },
     "execution_count": 48,
     "metadata": {},
     "output_type": "execute_result"
    }
   ],
   "source": [
    "x"
   ]
  },
  {
   "cell_type": "code",
   "execution_count": 49,
   "id": "1d270e09",
   "metadata": {},
   "outputs": [
    {
     "data": {
      "text/plain": [
       "0     2\n",
       "1     1\n",
       "2     4\n",
       "3     5\n",
       "4     8\n",
       "5    12\n",
       "6    18\n",
       "7    25\n",
       "8    96\n",
       "9    48\n",
       "dtype: int64"
      ]
     },
     "execution_count": 49,
     "metadata": {},
     "output_type": "execute_result"
    }
   ],
   "source": [
    "y"
   ]
  },
  {
   "cell_type": "markdown",
   "id": "599df6b8",
   "metadata": {},
   "source": [
    "__2. Call the relevant method to calculate Pearson's r correlation.__"
   ]
  },
  {
   "cell_type": "code",
   "execution_count": 52,
   "id": "12e37886",
   "metadata": {},
   "outputs": [
    {
     "data": {
      "text/plain": [
       "0.7586402890911867"
      ]
     },
     "execution_count": 52,
     "metadata": {},
     "output_type": "execute_result"
    }
   ],
   "source": [
    "r = x.corr(y)\n",
    "r"
   ]
  },
  {
   "cell_type": "markdown",
   "id": "62bfbc86",
   "metadata": {},
   "source": [
    "__3. (OPTIONAL.) Call the relevant method to calculate Spearman's rho correlation.__"
   ]
  },
  {
   "cell_type": "code",
   "execution_count": 53,
   "id": "e356c4f1",
   "metadata": {},
   "outputs": [
    {
     "data": {
      "text/plain": [
       "0.9757575757575757"
      ]
     },
     "execution_count": 53,
     "metadata": {},
     "output_type": "execute_result"
    }
   ],
   "source": [
    "rho = x.corr(y, method='spearman')\n",
    "rho"
   ]
  },
  {
   "cell_type": "markdown",
   "id": "54db245a",
   "metadata": {},
   "source": [
    "## Seaborn Dataset Tips"
   ]
  },
  {
   "cell_type": "markdown",
   "id": "98b15839",
   "metadata": {},
   "source": [
    "__1. Import Seaborn Library__"
   ]
  },
  {
   "cell_type": "code",
   "execution_count": 54,
   "id": "9dbb1b81",
   "metadata": {},
   "outputs": [],
   "source": [
    "import seaborn as sns"
   ]
  },
  {
   "cell_type": "markdown",
   "id": "1d0f24e5",
   "metadata": {},
   "source": [
    "__2. Load \"tips\" dataset from Seaborn__"
   ]
  },
  {
   "cell_type": "code",
   "execution_count": 55,
   "id": "0d510a5c",
   "metadata": {},
   "outputs": [
    {
     "data": {
      "text/plain": [
       "['anagrams',\n",
       " 'anscombe',\n",
       " 'attention',\n",
       " 'brain_networks',\n",
       " 'car_crashes',\n",
       " 'diamonds',\n",
       " 'dots',\n",
       " 'exercise',\n",
       " 'flights',\n",
       " 'fmri',\n",
       " 'gammas',\n",
       " 'geyser',\n",
       " 'iris',\n",
       " 'mpg',\n",
       " 'penguins',\n",
       " 'planets',\n",
       " 'taxis',\n",
       " 'tips',\n",
       " 'titanic']"
      ]
     },
     "execution_count": 55,
     "metadata": {},
     "output_type": "execute_result"
    }
   ],
   "source": [
    "sns.get_dataset_names()"
   ]
  },
  {
   "cell_type": "code",
   "execution_count": 57,
   "id": "842c39e9",
   "metadata": {},
   "outputs": [],
   "source": [
    "df = sns.load_dataset(\"tips\")"
   ]
  },
  {
   "cell_type": "code",
   "execution_count": 58,
   "id": "059c44f1",
   "metadata": {},
   "outputs": [
    {
     "data": {
      "text/html": [
       "<div>\n",
       "<style scoped>\n",
       "    .dataframe tbody tr th:only-of-type {\n",
       "        vertical-align: middle;\n",
       "    }\n",
       "\n",
       "    .dataframe tbody tr th {\n",
       "        vertical-align: top;\n",
       "    }\n",
       "\n",
       "    .dataframe thead th {\n",
       "        text-align: right;\n",
       "    }\n",
       "</style>\n",
       "<table border=\"1\" class=\"dataframe\">\n",
       "  <thead>\n",
       "    <tr style=\"text-align: right;\">\n",
       "      <th></th>\n",
       "      <th>total_bill</th>\n",
       "      <th>tip</th>\n",
       "      <th>sex</th>\n",
       "      <th>smoker</th>\n",
       "      <th>day</th>\n",
       "      <th>time</th>\n",
       "      <th>size</th>\n",
       "    </tr>\n",
       "  </thead>\n",
       "  <tbody>\n",
       "    <tr>\n",
       "      <th>0</th>\n",
       "      <td>16.99</td>\n",
       "      <td>1.01</td>\n",
       "      <td>Female</td>\n",
       "      <td>No</td>\n",
       "      <td>Sun</td>\n",
       "      <td>Dinner</td>\n",
       "      <td>2</td>\n",
       "    </tr>\n",
       "    <tr>\n",
       "      <th>1</th>\n",
       "      <td>10.34</td>\n",
       "      <td>1.66</td>\n",
       "      <td>Male</td>\n",
       "      <td>No</td>\n",
       "      <td>Sun</td>\n",
       "      <td>Dinner</td>\n",
       "      <td>3</td>\n",
       "    </tr>\n",
       "    <tr>\n",
       "      <th>2</th>\n",
       "      <td>21.01</td>\n",
       "      <td>3.50</td>\n",
       "      <td>Male</td>\n",
       "      <td>No</td>\n",
       "      <td>Sun</td>\n",
       "      <td>Dinner</td>\n",
       "      <td>3</td>\n",
       "    </tr>\n",
       "    <tr>\n",
       "      <th>3</th>\n",
       "      <td>23.68</td>\n",
       "      <td>3.31</td>\n",
       "      <td>Male</td>\n",
       "      <td>No</td>\n",
       "      <td>Sun</td>\n",
       "      <td>Dinner</td>\n",
       "      <td>2</td>\n",
       "    </tr>\n",
       "    <tr>\n",
       "      <th>4</th>\n",
       "      <td>24.59</td>\n",
       "      <td>3.61</td>\n",
       "      <td>Female</td>\n",
       "      <td>No</td>\n",
       "      <td>Sun</td>\n",
       "      <td>Dinner</td>\n",
       "      <td>4</td>\n",
       "    </tr>\n",
       "    <tr>\n",
       "      <th>5</th>\n",
       "      <td>25.29</td>\n",
       "      <td>4.71</td>\n",
       "      <td>Male</td>\n",
       "      <td>No</td>\n",
       "      <td>Sun</td>\n",
       "      <td>Dinner</td>\n",
       "      <td>4</td>\n",
       "    </tr>\n",
       "    <tr>\n",
       "      <th>6</th>\n",
       "      <td>8.77</td>\n",
       "      <td>2.00</td>\n",
       "      <td>Male</td>\n",
       "      <td>No</td>\n",
       "      <td>Sun</td>\n",
       "      <td>Dinner</td>\n",
       "      <td>2</td>\n",
       "    </tr>\n",
       "    <tr>\n",
       "      <th>7</th>\n",
       "      <td>26.88</td>\n",
       "      <td>3.12</td>\n",
       "      <td>Male</td>\n",
       "      <td>No</td>\n",
       "      <td>Sun</td>\n",
       "      <td>Dinner</td>\n",
       "      <td>4</td>\n",
       "    </tr>\n",
       "    <tr>\n",
       "      <th>8</th>\n",
       "      <td>15.04</td>\n",
       "      <td>1.96</td>\n",
       "      <td>Male</td>\n",
       "      <td>No</td>\n",
       "      <td>Sun</td>\n",
       "      <td>Dinner</td>\n",
       "      <td>2</td>\n",
       "    </tr>\n",
       "    <tr>\n",
       "      <th>9</th>\n",
       "      <td>14.78</td>\n",
       "      <td>3.23</td>\n",
       "      <td>Male</td>\n",
       "      <td>No</td>\n",
       "      <td>Sun</td>\n",
       "      <td>Dinner</td>\n",
       "      <td>2</td>\n",
       "    </tr>\n",
       "  </tbody>\n",
       "</table>\n",
       "</div>"
      ],
      "text/plain": [
       "   total_bill   tip     sex smoker  day    time  size\n",
       "0       16.99  1.01  Female     No  Sun  Dinner     2\n",
       "1       10.34  1.66    Male     No  Sun  Dinner     3\n",
       "2       21.01  3.50    Male     No  Sun  Dinner     3\n",
       "3       23.68  3.31    Male     No  Sun  Dinner     2\n",
       "4       24.59  3.61  Female     No  Sun  Dinner     4\n",
       "5       25.29  4.71    Male     No  Sun  Dinner     4\n",
       "6        8.77  2.00    Male     No  Sun  Dinner     2\n",
       "7       26.88  3.12    Male     No  Sun  Dinner     4\n",
       "8       15.04  1.96    Male     No  Sun  Dinner     2\n",
       "9       14.78  3.23    Male     No  Sun  Dinner     2"
      ]
     },
     "execution_count": 58,
     "metadata": {},
     "output_type": "execute_result"
    }
   ],
   "source": [
    "df.head(10)"
   ]
  },
  {
   "cell_type": "markdown",
   "id": "923f9424",
   "metadata": {},
   "source": [
    "__3. Generate descriptive statistics include those that summarize the central tendency, dispersion.__"
   ]
  },
  {
   "cell_type": "code",
   "execution_count": 59,
   "id": "c2ec6362",
   "metadata": {},
   "outputs": [
    {
     "data": {
      "text/html": [
       "<div>\n",
       "<style scoped>\n",
       "    .dataframe tbody tr th:only-of-type {\n",
       "        vertical-align: middle;\n",
       "    }\n",
       "\n",
       "    .dataframe tbody tr th {\n",
       "        vertical-align: top;\n",
       "    }\n",
       "\n",
       "    .dataframe thead th {\n",
       "        text-align: right;\n",
       "    }\n",
       "</style>\n",
       "<table border=\"1\" class=\"dataframe\">\n",
       "  <thead>\n",
       "    <tr style=\"text-align: right;\">\n",
       "      <th></th>\n",
       "      <th>total_bill</th>\n",
       "      <th>tip</th>\n",
       "      <th>size</th>\n",
       "    </tr>\n",
       "  </thead>\n",
       "  <tbody>\n",
       "    <tr>\n",
       "      <th>count</th>\n",
       "      <td>244.000000</td>\n",
       "      <td>244.000000</td>\n",
       "      <td>244.000000</td>\n",
       "    </tr>\n",
       "    <tr>\n",
       "      <th>mean</th>\n",
       "      <td>19.785943</td>\n",
       "      <td>2.998279</td>\n",
       "      <td>2.569672</td>\n",
       "    </tr>\n",
       "    <tr>\n",
       "      <th>std</th>\n",
       "      <td>8.902412</td>\n",
       "      <td>1.383638</td>\n",
       "      <td>0.951100</td>\n",
       "    </tr>\n",
       "    <tr>\n",
       "      <th>min</th>\n",
       "      <td>3.070000</td>\n",
       "      <td>1.000000</td>\n",
       "      <td>1.000000</td>\n",
       "    </tr>\n",
       "    <tr>\n",
       "      <th>25%</th>\n",
       "      <td>13.347500</td>\n",
       "      <td>2.000000</td>\n",
       "      <td>2.000000</td>\n",
       "    </tr>\n",
       "    <tr>\n",
       "      <th>50%</th>\n",
       "      <td>17.795000</td>\n",
       "      <td>2.900000</td>\n",
       "      <td>2.000000</td>\n",
       "    </tr>\n",
       "    <tr>\n",
       "      <th>75%</th>\n",
       "      <td>24.127500</td>\n",
       "      <td>3.562500</td>\n",
       "      <td>3.000000</td>\n",
       "    </tr>\n",
       "    <tr>\n",
       "      <th>max</th>\n",
       "      <td>50.810000</td>\n",
       "      <td>10.000000</td>\n",
       "      <td>6.000000</td>\n",
       "    </tr>\n",
       "  </tbody>\n",
       "</table>\n",
       "</div>"
      ],
      "text/plain": [
       "       total_bill         tip        size\n",
       "count  244.000000  244.000000  244.000000\n",
       "mean    19.785943    2.998279    2.569672\n",
       "std      8.902412    1.383638    0.951100\n",
       "min      3.070000    1.000000    1.000000\n",
       "25%     13.347500    2.000000    2.000000\n",
       "50%     17.795000    2.900000    2.000000\n",
       "75%     24.127500    3.562500    3.000000\n",
       "max     50.810000   10.000000    6.000000"
      ]
     },
     "execution_count": 59,
     "metadata": {},
     "output_type": "execute_result"
    }
   ],
   "source": [
    "df.describe()"
   ]
  },
  {
   "cell_type": "markdown",
   "id": "641c8d1c",
   "metadata": {},
   "source": [
    "__4. Call the relevant method to calculate pairwise Pearson's r correlation of columns.__"
   ]
  },
  {
   "cell_type": "code",
   "execution_count": 60,
   "id": "350f3b29",
   "metadata": {},
   "outputs": [
    {
     "data": {
      "text/html": [
       "<div>\n",
       "<style scoped>\n",
       "    .dataframe tbody tr th:only-of-type {\n",
       "        vertical-align: middle;\n",
       "    }\n",
       "\n",
       "    .dataframe tbody tr th {\n",
       "        vertical-align: top;\n",
       "    }\n",
       "\n",
       "    .dataframe thead th {\n",
       "        text-align: right;\n",
       "    }\n",
       "</style>\n",
       "<table border=\"1\" class=\"dataframe\">\n",
       "  <thead>\n",
       "    <tr style=\"text-align: right;\">\n",
       "      <th></th>\n",
       "      <th>total_bill</th>\n",
       "      <th>tip</th>\n",
       "      <th>size</th>\n",
       "    </tr>\n",
       "  </thead>\n",
       "  <tbody>\n",
       "    <tr>\n",
       "      <th>total_bill</th>\n",
       "      <td>1.000000</td>\n",
       "      <td>0.675734</td>\n",
       "      <td>0.598315</td>\n",
       "    </tr>\n",
       "    <tr>\n",
       "      <th>tip</th>\n",
       "      <td>0.675734</td>\n",
       "      <td>1.000000</td>\n",
       "      <td>0.489299</td>\n",
       "    </tr>\n",
       "    <tr>\n",
       "      <th>size</th>\n",
       "      <td>0.598315</td>\n",
       "      <td>0.489299</td>\n",
       "      <td>1.000000</td>\n",
       "    </tr>\n",
       "  </tbody>\n",
       "</table>\n",
       "</div>"
      ],
      "text/plain": [
       "            total_bill       tip      size\n",
       "total_bill    1.000000  0.675734  0.598315\n",
       "tip           0.675734  1.000000  0.489299\n",
       "size          0.598315  0.489299  1.000000"
      ]
     },
     "execution_count": 60,
     "metadata": {},
     "output_type": "execute_result"
    }
   ],
   "source": [
    "df.corr()"
   ]
  },
  {
   "cell_type": "code",
   "execution_count": null,
   "id": "a1222c36",
   "metadata": {},
   "outputs": [],
   "source": []
  }
 ],
 "metadata": {
  "kernelspec": {
   "display_name": "Python 3 (ipykernel)",
   "language": "python",
   "name": "python3"
  },
  "language_info": {
   "codemirror_mode": {
    "name": "ipython",
    "version": 3
   },
   "file_extension": ".py",
   "mimetype": "text/x-python",
   "name": "python",
   "nbconvert_exporter": "python",
   "pygments_lexer": "ipython3",
   "version": "3.9.7"
  }
 },
 "nbformat": 4,
 "nbformat_minor": 5
}
