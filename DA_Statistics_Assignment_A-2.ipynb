{
 "cells": [
  {
   "cell_type": "markdown",
   "id": "7a7aa6e0",
   "metadata": {},
   "source": [
    "# Statistics Assignment-2 \n",
    "# (Confidence Intervals) "
   ]
  },
  {
   "cell_type": "code",
   "execution_count": 13,
   "id": "2d2ca5b8",
   "metadata": {
    "ExecuteTime": {
     "end_time": "2022-07-03T18:28:54.467410Z",
     "start_time": "2022-07-03T18:28:54.445272Z"
    }
   },
   "outputs": [],
   "source": [
    "import numpy as np\n",
    "from scipy import stats\n",
    "import matplotlib.pyplot as plt\n",
    "import seaborn as sns\n",
    "import pandas as pd "
   ]
  },
  {
   "cell_type": "markdown",
   "id": "06c9e8bf",
   "metadata": {},
   "source": [
    "## Exercise-1"
   ]
  },
  {
   "cell_type": "markdown",
   "id": "15bf388a",
   "metadata": {},
   "source": [
    "__- Suppose scores on exams in statistics are normally distributed with an unknown population mean and a population standard deviation of 3 points.__<br> \n",
    "__- A random sample of 36 scores is taken and gives a sample mean (sample  mean score) of 68.__<br><br>   \n",
    "__- Find a confidence interval estimate for the population mean exam score (the mean score on all exams).__<br> \n",
    "__- Find a 90% confidence interval for the true (population) mean of statistics exam scores.__ \n"
   ]
  },
  {
   "cell_type": "markdown",
   "id": "112b082c",
   "metadata": {},
   "source": [
    "xbar = 68 (sample mean score)\n",
    "n = 36 \n",
    "sigma_p = 3 \n",
    "ci = 90%"
   ]
  },
  {
   "cell_type": "code",
   "execution_count": 14,
   "id": "d1d0cb70",
   "metadata": {
    "ExecuteTime": {
     "end_time": "2022-07-03T18:31:56.137487Z",
     "start_time": "2022-07-03T18:31:56.132261Z"
    }
   },
   "outputs": [],
   "source": [
    "xbar = 68\n",
    "n = 36 \n",
    "sigma_p = 3 \n",
    "\n",
    "# population std (sigma_p) is known, so we'll solve this exercise with z test score"
   ]
  },
  {
   "cell_type": "code",
   "execution_count": 16,
   "id": "fbd641a4",
   "metadata": {
    "ExecuteTime": {
     "end_time": "2022-07-03T18:34:08.392430Z",
     "start_time": "2022-07-03T18:34:08.384415Z"
    }
   },
   "outputs": [
    {
     "data": {
      "text/plain": [
       "0.5"
      ]
     },
     "execution_count": 16,
     "metadata": {},
     "output_type": "execute_result"
    }
   ],
   "source": [
    "#st.error\n",
    "sem = sigma_p / np.sqrt(n)\n",
    "sem"
   ]
  },
  {
   "cell_type": "code",
   "execution_count": 18,
   "id": "43d16f0a",
   "metadata": {
    "ExecuteTime": {
     "end_time": "2022-07-03T18:40:08.443520Z",
     "start_time": "2022-07-03T18:40:08.431691Z"
    }
   },
   "outputs": [
    {
     "data": {
      "text/plain": [
       "1.6448536269514722"
      ]
     },
     "execution_count": 18,
     "metadata": {},
     "output_type": "execute_result"
    }
   ],
   "source": [
    "# for %90 confidence interval\n",
    "z = stats.norm.ppf(0.95)\n",
    "z"
   ]
  },
  {
   "cell_type": "code",
   "execution_count": 19,
   "id": "5899301a",
   "metadata": {
    "ExecuteTime": {
     "end_time": "2022-07-03T18:40:33.890057Z",
     "start_time": "2022-07-03T18:40:33.882204Z"
    }
   },
   "outputs": [
    {
     "data": {
      "text/plain": [
       "0.8224268134757361"
      ]
     },
     "execution_count": 19,
     "metadata": {},
     "output_type": "execute_result"
    }
   ],
   "source": [
    "moe = z * sem \n",
    "moe"
   ]
  },
  {
   "cell_type": "code",
   "execution_count": 20,
   "id": "0e82bd95",
   "metadata": {
    "ExecuteTime": {
     "end_time": "2022-07-03T18:41:31.654728Z",
     "start_time": "2022-07-03T18:41:31.646545Z"
    }
   },
   "outputs": [
    {
     "data": {
      "text/plain": [
       "68.82242681347573"
      ]
     },
     "execution_count": 20,
     "metadata": {},
     "output_type": "execute_result"
    }
   ],
   "source": [
    "upper = xbar + moe\n",
    "upper"
   ]
  },
  {
   "cell_type": "code",
   "execution_count": 21,
   "id": "836f6a84",
   "metadata": {
    "ExecuteTime": {
     "end_time": "2022-07-03T18:41:46.299326Z",
     "start_time": "2022-07-03T18:41:46.290214Z"
    }
   },
   "outputs": [
    {
     "data": {
      "text/plain": [
       "67.17757318652427"
      ]
     },
     "execution_count": 21,
     "metadata": {},
     "output_type": "execute_result"
    }
   ],
   "source": [
    "lower = xbar - moe\n",
    "lower"
   ]
  },
  {
   "cell_type": "code",
   "execution_count": 22,
   "id": "c56ef99c",
   "metadata": {
    "ExecuteTime": {
     "end_time": "2022-07-03T18:43:04.936729Z",
     "start_time": "2022-07-03T18:43:04.929516Z"
    }
   },
   "outputs": [
    {
     "data": {
      "text/plain": [
       "[67.17757318652427, 68.82242681347573]"
      ]
     },
     "execution_count": 22,
     "metadata": {},
     "output_type": "execute_result"
    }
   ],
   "source": [
    "ci_90 = [lower, upper]\n",
    "ci_90"
   ]
  },
  {
   "cell_type": "markdown",
   "id": "4f0401fb",
   "metadata": {},
   "source": [
    "### 2nd Solution"
   ]
  },
  {
   "cell_type": "code",
   "execution_count": 23,
   "id": "13e6ca0f",
   "metadata": {
    "ExecuteTime": {
     "end_time": "2022-07-03T18:44:17.465178Z",
     "start_time": "2022-07-03T18:44:17.456172Z"
    }
   },
   "outputs": [
    {
     "data": {
      "text/plain": [
       "(67.17757318652427, 68.82242681347573)"
      ]
     },
     "execution_count": 23,
     "metadata": {},
     "output_type": "execute_result"
    }
   ],
   "source": [
    "ci_90 = stats.norm.interval(0.90, loc=xbar, scale=sem)\n",
    "ci_90"
   ]
  },
  {
   "cell_type": "code",
   "execution_count": null,
   "id": "0da8c802",
   "metadata": {},
   "outputs": [],
   "source": []
  },
  {
   "cell_type": "markdown",
   "id": "6d1a3514",
   "metadata": {},
   "source": [
    "## Exercise-2"
   ]
  },
  {
   "cell_type": "markdown",
   "id": "3e5977c4",
   "metadata": {},
   "source": [
    "\n",
    "__- What is the normal body temperature for healthy humans?__<br> \n",
    "__- A random sample of 130 healthy human body temperatures provided by Allen Shoemaker7 yielded 98.25 degrees and standard deviation 0.73 degrees.__<br><br> \n",
    "__- Give a 99% confidence interval for the average body temperature of healthy people.__<br>\n"
   ]
  },
  {
   "cell_type": "markdown",
   "id": "d859d09c",
   "metadata": {},
   "source": [
    "sigma_s, sem = 0.73\n",
    "xbar = 98.25 \n",
    "n = 130 \n",
    "ci = 99% \n",
    "\n"
   ]
  },
  {
   "cell_type": "code",
   "execution_count": 28,
   "id": "7dec07d2",
   "metadata": {
    "ExecuteTime": {
     "end_time": "2022-07-03T19:52:21.043516Z",
     "start_time": "2022-07-03T19:52:21.039092Z"
    }
   },
   "outputs": [],
   "source": [
    "xbar2 = 98.25 \n",
    "n = 130 \n",
    "sem2 = 0.73\n",
    "\n",
    "# population std (sigma_p) is unknown, so we'll solve this exercise with t test score"
   ]
  },
  {
   "cell_type": "code",
   "execution_count": 24,
   "id": "fb5da585",
   "metadata": {
    "ExecuteTime": {
     "end_time": "2022-07-03T19:21:39.881200Z",
     "start_time": "2022-07-03T19:21:39.862065Z"
    }
   },
   "outputs": [
    {
     "data": {
      "text/plain": [
       "2.614478679699783"
      ]
     },
     "execution_count": 24,
     "metadata": {},
     "output_type": "execute_result"
    }
   ],
   "source": [
    "t_score = stats.t.ppf(0.995, 129)\n",
    "t_score "
   ]
  },
  {
   "cell_type": "code",
   "execution_count": 27,
   "id": "47fdcf05",
   "metadata": {
    "ExecuteTime": {
     "end_time": "2022-07-03T19:51:34.468096Z",
     "start_time": "2022-07-03T19:51:34.447867Z"
    }
   },
   "outputs": [
    {
     "data": {
      "text/plain": [
       "1.9085694361808416"
      ]
     },
     "execution_count": 27,
     "metadata": {},
     "output_type": "execute_result"
    }
   ],
   "source": [
    "moe2 = t_score * sem2\n",
    "moe2 "
   ]
  },
  {
   "cell_type": "code",
   "execution_count": 29,
   "id": "50253b7e",
   "metadata": {
    "ExecuteTime": {
     "end_time": "2022-07-03T19:52:24.038670Z",
     "start_time": "2022-07-03T19:52:24.030082Z"
    }
   },
   "outputs": [
    {
     "data": {
      "text/plain": [
       "100.15856943618084"
      ]
     },
     "execution_count": 29,
     "metadata": {},
     "output_type": "execute_result"
    }
   ],
   "source": [
    "upper2 = xbar2 + moe2\n",
    "upper2"
   ]
  },
  {
   "cell_type": "code",
   "execution_count": 30,
   "id": "95b38b16",
   "metadata": {
    "ExecuteTime": {
     "end_time": "2022-07-03T19:52:42.684262Z",
     "start_time": "2022-07-03T19:52:42.676001Z"
    }
   },
   "outputs": [
    {
     "data": {
      "text/plain": [
       "96.34143056381916"
      ]
     },
     "execution_count": 30,
     "metadata": {},
     "output_type": "execute_result"
    }
   ],
   "source": [
    "lower2 = xbar2 - moe2\n",
    "lower2"
   ]
  },
  {
   "cell_type": "code",
   "execution_count": 32,
   "id": "b4a109ec",
   "metadata": {
    "ExecuteTime": {
     "end_time": "2022-07-03T19:54:05.020675Z",
     "start_time": "2022-07-03T19:54:05.013295Z"
    }
   },
   "outputs": [
    {
     "data": {
      "text/plain": [
       "[96.34143056381916, 100.15856943618084]"
      ]
     },
     "execution_count": 32,
     "metadata": {},
     "output_type": "execute_result"
    }
   ],
   "source": [
    "ci_99 = [lower2, upper2]\n",
    "ci_99"
   ]
  },
  {
   "cell_type": "markdown",
   "id": "10f592de",
   "metadata": {},
   "source": [
    "### 2nd Solution"
   ]
  },
  {
   "cell_type": "code",
   "execution_count": 34,
   "id": "94bec66b",
   "metadata": {
    "ExecuteTime": {
     "end_time": "2022-07-03T19:56:15.687130Z",
     "start_time": "2022-07-03T19:56:15.678301Z"
    },
    "scrolled": true
   },
   "outputs": [
    {
     "data": {
      "text/plain": [
       "(96.34143056381916, 100.15856943618084)"
      ]
     },
     "execution_count": 34,
     "metadata": {},
     "output_type": "execute_result"
    }
   ],
   "source": [
    "ci_99 = stats.t.interval(0.99, df=129, loc=xbar2, scale=sem2)\n",
    "ci_99"
   ]
  },
  {
   "cell_type": "code",
   "execution_count": null,
   "id": "a2ba2881",
   "metadata": {},
   "outputs": [],
   "source": []
  },
  {
   "cell_type": "markdown",
   "id": "a9606672",
   "metadata": {},
   "source": [
    "## Exercise-3"
   ]
  },
  {
   "cell_type": "markdown",
   "id": "a588991b",
   "metadata": {},
   "source": [
    "__- The administrators for a hospital wished to estimate the average number of days required for inpatient treatment of patients between the ages of 25 and 34.__<br> \n",
    "__- A random sample of 500 hospital patients between these ages produced a mean and standard deviation equal to 5.4 and 3.1 days, respectively.__<br><br>  \n",
    "\n",
    "__- Construct a 95% confidence interval for the mean length of stay for the population of patients from which the sample was drawn.__<br> \n"
   ]
  },
  {
   "cell_type": "code",
   "execution_count": 38,
   "id": "9a8f9810",
   "metadata": {
    "ExecuteTime": {
     "end_time": "2022-07-03T20:05:07.339788Z",
     "start_time": "2022-07-03T20:05:07.316366Z"
    }
   },
   "outputs": [],
   "source": [
    "\n",
    "sem3 = 3.1 # sigma_s\n",
    "xbar3 = 5.4\n",
    "n = 500\n",
    "\n",
    "# ci = 95%\n",
    "\n",
    "# population std (sigma_p) is unknown, so we'll solve this exercise with t test score"
   ]
  },
  {
   "cell_type": "code",
   "execution_count": null,
   "id": "c77acd04",
   "metadata": {},
   "outputs": [],
   "source": []
  },
  {
   "cell_type": "code",
   "execution_count": 37,
   "id": "9629feee",
   "metadata": {
    "ExecuteTime": {
     "end_time": "2022-07-03T20:03:58.635627Z",
     "start_time": "2022-07-03T20:03:58.626955Z"
    }
   },
   "outputs": [
    {
     "data": {
      "text/plain": [
       "1.9647293909876649"
      ]
     },
     "execution_count": 37,
     "metadata": {},
     "output_type": "execute_result"
    }
   ],
   "source": [
    "t_score2 = stats.t.ppf(0.975, 499)\n",
    "t_score2 "
   ]
  },
  {
   "cell_type": "code",
   "execution_count": 39,
   "id": "b3fd4290",
   "metadata": {
    "ExecuteTime": {
     "end_time": "2022-07-03T20:05:14.242304Z",
     "start_time": "2022-07-03T20:05:14.234776Z"
    }
   },
   "outputs": [
    {
     "data": {
      "text/plain": [
       "6.0906611120617615"
      ]
     },
     "execution_count": 39,
     "metadata": {},
     "output_type": "execute_result"
    }
   ],
   "source": [
    "moe3 = t_score2 * sem3\n",
    "moe3 "
   ]
  },
  {
   "cell_type": "code",
   "execution_count": 40,
   "id": "9bb2a59a",
   "metadata": {
    "ExecuteTime": {
     "end_time": "2022-07-03T20:05:37.819562Z",
     "start_time": "2022-07-03T20:05:37.804016Z"
    }
   },
   "outputs": [
    {
     "data": {
      "text/plain": [
       "11.490661112061762"
      ]
     },
     "execution_count": 40,
     "metadata": {},
     "output_type": "execute_result"
    }
   ],
   "source": [
    "upper3 = xbar3 + moe3\n",
    "upper3"
   ]
  },
  {
   "cell_type": "code",
   "execution_count": 41,
   "id": "db8754d6",
   "metadata": {
    "ExecuteTime": {
     "end_time": "2022-07-03T20:06:00.917031Z",
     "start_time": "2022-07-03T20:06:00.909855Z"
    }
   },
   "outputs": [
    {
     "data": {
      "text/plain": [
       "-0.6906611120617612"
      ]
     },
     "execution_count": 41,
     "metadata": {},
     "output_type": "execute_result"
    }
   ],
   "source": [
    "lower3 = xbar3 - moe3\n",
    "lower3"
   ]
  },
  {
   "cell_type": "code",
   "execution_count": 43,
   "id": "7deb6376",
   "metadata": {
    "ExecuteTime": {
     "end_time": "2022-07-03T20:06:41.232920Z",
     "start_time": "2022-07-03T20:06:41.224729Z"
    }
   },
   "outputs": [
    {
     "data": {
      "text/plain": [
       "(-0.6906611120617612, 11.490661112061762)"
      ]
     },
     "execution_count": 43,
     "metadata": {},
     "output_type": "execute_result"
    }
   ],
   "source": [
    "ci_95 = (lower3, upper3)\n",
    "ci_95"
   ]
  },
  {
   "cell_type": "markdown",
   "id": "e4372562",
   "metadata": {},
   "source": [
    "### 2nd Solution"
   ]
  },
  {
   "cell_type": "code",
   "execution_count": 44,
   "id": "478d346a",
   "metadata": {
    "ExecuteTime": {
     "end_time": "2022-07-03T20:07:34.853076Z",
     "start_time": "2022-07-03T20:07:34.844964Z"
    }
   },
   "outputs": [
    {
     "data": {
      "text/plain": [
       "(-0.6906611120617612, 11.490661112061762)"
      ]
     },
     "execution_count": 44,
     "metadata": {},
     "output_type": "execute_result"
    }
   ],
   "source": [
    "ci_95 = stats.t.interval(0.95, df=499, loc=xbar3, scale=sem3)\n",
    "ci_95"
   ]
  },
  {
   "cell_type": "code",
   "execution_count": null,
   "id": "d66ce250",
   "metadata": {},
   "outputs": [],
   "source": []
  }
 ],
 "metadata": {
  "kernelspec": {
   "display_name": "Python 3 (ipykernel)",
   "language": "python",
   "name": "python3"
  },
  "language_info": {
   "codemirror_mode": {
    "name": "ipython",
    "version": 3
   },
   "file_extension": ".py",
   "mimetype": "text/x-python",
   "name": "python",
   "nbconvert_exporter": "python",
   "pygments_lexer": "ipython3",
   "version": "3.9.7"
  }
 },
 "nbformat": 4,
 "nbformat_minor": 5
}
